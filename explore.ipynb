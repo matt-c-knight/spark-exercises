{
 "cells": [
  {
   "cell_type": "code",
   "execution_count": 1,
   "metadata": {},
   "outputs": [],
   "source": [
    "import warnings\n",
    "\n",
    "warnings.filterwarnings(\"ignore\")\n",
    "\n",
    "import pyspark.sql\n",
    "from pyspark.sql.functions import *\n",
    "\n",
    "import numpy as np\n",
    "import pandas as pd\n",
    "\n",
    "%matplotlib inline\n",
    "import matplotlib.pyplot as plt\n",
    "import seaborn as sns\n",
    "\n",
    "# from wrangle import wrangle_311\n",
    "\n",
    "spark = pyspark.sql.SparkSession.builder.getOrCreate()"
   ]
  },
  {
   "cell_type": "code",
   "execution_count": 2,
   "metadata": {},
   "outputs": [],
   "source": [
    "from toolz import compose\n",
    "import pyspark.sql\n",
    "from pyspark.sql.functions import (\n",
    "    expr,\n",
    "    col,\n",
    "    to_timestamp,\n",
    "    format_string,\n",
    "    regexp_extract,\n",
    "    datediff,\n",
    "    current_timestamp,\n",
    "    when,\n",
    "    max,\n",
    "    lit,\n",
    ")\n",
    "\n",
    "\n",
    "def get_311_data(spark: pyspark.sql.SparkSession) -> pyspark.sql.DataFrame:\n",
    "    print(\"[wrangle.py] reading case.csv\")\n",
    "    df = spark.read.csv(\"data/case.csv\", header=True, inferSchema=True)\n",
    "    return df.withColumnRenamed(\"SLA_due_date\", \"case_due_date\")\n",
    "\n",
    "\n",
    "def handle_dtypes(df: pyspark.sql.DataFrame) -> pyspark.sql.DataFrame:\n",
    "    print(\"[wrangle.py] handling data types\")\n",
    "    return (\n",
    "        df.withColumn(\"case_closed\", expr('case_closed == \"YES\"'))\n",
    "        .withColumn(\"case_late\", expr('case_late == \"YES\"'))\n",
    "        .withColumn(\"council_district\", col(\"council_district\").cast(\"string\"))\n",
    "    )\n",
    "\n",
    "\n",
    "def handle_dates(df: pyspark.sql.DataFrame) -> pyspark.sql.DataFrame:\n",
    "    print(\"[wrangle.py] parsing dates\")\n",
    "    fmt = \"M/d/yy H:mm\"\n",
    "    return (\n",
    "        df.withColumn(\"case_opened_date\", to_timestamp(\"case_opened_date\", fmt))\n",
    "        .withColumn(\"case_closed_date\", to_timestamp(\"case_closed_date\", fmt))\n",
    "        .withColumn(\"case_due_date\", to_timestamp(\"case_due_date\", fmt))\n",
    "    )\n",
    "\n",
    "def wrangle_311(spark: pyspark.sql.SparkSession) -> pyspark.sql.DataFrame:\n",
    "    df = add_features(handle_dates(handle_dtypes(get_311_data(spark))))\n",
    "    return join_departments(df, spark)\n",
    "\n",
    "def add_features(df: pyspark.sql.DataFrame) -> pyspark.sql.DataFrame:\n",
    "    print(\"[wrangle.py] adding features\")\n",
    "    max_date = df.select(max(\"case_closed_date\")).first()[0]\n",
    "    return (\n",
    "        df.withColumn(\"num_weeks_late\", expr(\"num_days_late / 7 AS num_weeks_late\"))\n",
    "        .withColumn(\n",
    "            \"council_district\",\n",
    "            format_string(\"%03d\", col(\"council_district\").cast(\"int\")),\n",
    "        )\n",
    "        .withColumn(\"zipcode\", regexp_extract(\"request_address\", r\"\\d+$\", 0))\n",
    "        .withColumn(\"case_age\", datediff(lit(max_date), \"case_opened_date\"))\n",
    "        .withColumn(\"days_to_closed\", datediff(\"case_closed_date\", \"case_opened_date\"))\n",
    "        .withColumn(\n",
    "            \"case_lifetime\",\n",
    "            when(expr(\"! case_closed\"), col(\"case_age\")).otherwise(\n",
    "                col(\"days_to_closed\")\n",
    "            ),\n",
    "        )\n",
    "    )\n",
    "\n",
    "def join_departments(\n",
    "    case_df: pyspark.sql.DataFrame, spark: pyspark.sql.SparkSession\n",
    ") -> pyspark.sql.DataFrame:\n",
    "    print(\"[wrangle.py] joining departments\")\n",
    "    dept = spark.read.csv(\"data/dept.csv\", header=True, inferSchema=True)\n",
    "    return (\n",
    "        case_df.join(dept, \"dept_division\", \"left\")\n",
    "        # drop all the columns except for standardized name, as it has much fewer unique values\n",
    "        .drop(dept.dept_division)\n",
    "        .drop(dept.dept_name)\n",
    "        .drop(case_df.dept_division)\n",
    "        .withColumnRenamed(\"standardized_dept_name\", \"department\")\n",
    "        # convert to a boolean\n",
    "        .withColumn(\"dept_subject_to_SLA\", col(\"dept_subject_to_SLA\") == \"YES\")\n",
    "    )"
   ]
  },
  {
   "cell_type": "code",
   "execution_count": 3,
   "metadata": {},
   "outputs": [
    {
     "name": "stdout",
     "output_type": "stream",
     "text": [
      "[wrangle.py] reading case.csv\n",
      "[wrangle.py] handling data types\n",
      "[wrangle.py] parsing dates\n",
      "[wrangle.py] adding features\n",
      "[wrangle.py] joining departments\n"
     ]
    }
   ],
   "source": [
    "df = wrangle_311(spark)"
   ]
  },
  {
   "cell_type": "code",
   "execution_count": 4,
   "metadata": {},
   "outputs": [
    {
     "name": "stdout",
     "output_type": "stream",
     "text": [
      "root\n",
      " |-- case_id: integer (nullable = true)\n",
      " |-- case_opened_date: timestamp (nullable = true)\n",
      " |-- case_closed_date: timestamp (nullable = true)\n",
      " |-- case_due_date: timestamp (nullable = true)\n",
      " |-- case_late: boolean (nullable = true)\n",
      " |-- num_days_late: double (nullable = true)\n",
      " |-- case_closed: boolean (nullable = true)\n",
      " |-- service_request_type: string (nullable = true)\n",
      " |-- SLA_days: double (nullable = true)\n",
      " |-- case_status: string (nullable = true)\n",
      " |-- source_id: string (nullable = true)\n",
      " |-- request_address: string (nullable = true)\n",
      " |-- council_district: string (nullable = false)\n",
      " |-- num_weeks_late: double (nullable = true)\n",
      " |-- zipcode: string (nullable = true)\n",
      " |-- case_age: integer (nullable = true)\n",
      " |-- days_to_closed: integer (nullable = true)\n",
      " |-- case_lifetime: integer (nullable = true)\n",
      " |-- department: string (nullable = true)\n",
      " |-- dept_subject_to_SLA: boolean (nullable = true)\n",
      "\n"
     ]
    }
   ],
   "source": [
    "df.printSchema()"
   ]
  },
  {
   "cell_type": "markdown",
   "metadata": {},
   "source": [
    "# 1. How many different cases are there, by department?\n"
   ]
  },
  {
   "cell_type": "code",
   "execution_count": 5,
   "metadata": {},
   "outputs": [
    {
     "name": "stdout",
     "output_type": "stream",
     "text": [
      "+--------------------+------+\n",
      "|          department| count|\n",
      "+--------------------+------+\n",
      "|         Solid Waste|279270|\n",
      "|Animal Care Services|116915|\n",
      "|Trans & Cap Impro...| 96193|\n",
      "|  Parks & Recreation| 19907|\n",
      "|    Customer Service|  2849|\n",
      "|        Metro Health|  5163|\n",
      "|        City Council|    33|\n",
      "|DSD/Code Enforcement|321374|\n",
      "+--------------------+------+\n",
      "\n"
     ]
    }
   ],
   "source": [
    "df.groupby(\"department\").count().show()\n"
   ]
  },
  {
   "cell_type": "code",
   "execution_count": null,
   "metadata": {},
   "outputs": [],
   "source": []
  },
  {
   "cell_type": "code",
   "execution_count": 6,
   "metadata": {},
   "outputs": [
    {
     "data": {
      "text/plain": [
       "Text(0.5, 0, 'Number of Cases')"
      ]
     },
     "execution_count": 6,
     "metadata": {},
     "output_type": "execute_result"
    },
    {
     "data": {
      "image/png": "[encoded data removed]",
      "text/plain": [
       "<Figure size 1008x360 with 1 Axes>"
      ]
     },
     "metadata": {
      "needs_background": "light"
     },
     "output_type": "display_data"
    }
   ],
   "source": [
    "(\n",
    "    df.groupBy(\"department\")\n",
    "    .count()\n",
    "    # then pass to pandas\n",
    "    .toPandas()\n",
    "    .set_index(\"department\")[\"count\"]\n",
    "    .sort_values(ascending=False)\n",
    "    .plot.barh(width=1, edgecolor=\"black\", figsize=(14, 5))\n",
    ")\n",
    "\n",
    "plt.title(\"Number of Cases By Department\")\n",
    "plt.ylabel(\"\")\n",
    "plt.xlabel(\"Number of Cases\")"
   ]
  },
  {
   "cell_type": "code",
   "execution_count": 7,
   "metadata": {},
   "outputs": [
    {
     "data": {
      "text/html": [
       "<div>\n",
       "<style scoped>\n",
       "    .dataframe tbody tr th:only-of-type {\n",
       "        vertical-align: middle;\n",
       "    }\n",
       "\n",
       "    .dataframe tbody tr th {\n",
       "        vertical-align: top;\n",
       "    }\n",
       "\n",
       "    .dataframe thead th {\n",
       "        text-align: right;\n",
       "    }\n",
       "</style>\n",
       "<table border=\"1\" class=\"dataframe\">\n",
       "  <thead>\n",
       "    <tr style=\"text-align: right;\">\n",
       "      <th></th>\n",
       "      <th>department</th>\n",
       "      <th>count</th>\n",
       "    </tr>\n",
       "  </thead>\n",
       "  <tbody>\n",
       "    <tr>\n",
       "      <th>0</th>\n",
       "      <td>Solid Waste</td>\n",
       "      <td>279270</td>\n",
       "    </tr>\n",
       "    <tr>\n",
       "      <th>1</th>\n",
       "      <td>Animal Care Services</td>\n",
       "      <td>116915</td>\n",
       "    </tr>\n",
       "    <tr>\n",
       "      <th>2</th>\n",
       "      <td>Trans &amp; Cap Improvements</td>\n",
       "      <td>96193</td>\n",
       "    </tr>\n",
       "    <tr>\n",
       "      <th>3</th>\n",
       "      <td>Parks &amp; Recreation</td>\n",
       "      <td>19907</td>\n",
       "    </tr>\n",
       "    <tr>\n",
       "      <th>4</th>\n",
       "      <td>Customer Service</td>\n",
       "      <td>2849</td>\n",
       "    </tr>\n",
       "    <tr>\n",
       "      <th>5</th>\n",
       "      <td>Metro Health</td>\n",
       "      <td>5163</td>\n",
       "    </tr>\n",
       "    <tr>\n",
       "      <th>6</th>\n",
       "      <td>City Council</td>\n",
       "      <td>33</td>\n",
       "    </tr>\n",
       "    <tr>\n",
       "      <th>7</th>\n",
       "      <td>DSD/Code Enforcement</td>\n",
       "      <td>321374</td>\n",
       "    </tr>\n",
       "  </tbody>\n",
       "</table>\n",
       "</div>"
      ],
      "text/plain": [
       "                 department   count\n",
       "0               Solid Waste  279270\n",
       "1      Animal Care Services  116915\n",
       "2  Trans & Cap Improvements   96193\n",
       "3        Parks & Recreation   19907\n",
       "4          Customer Service    2849\n",
       "5              Metro Health    5163\n",
       "6              City Council      33\n",
       "7      DSD/Code Enforcement  321374"
      ]
     },
     "execution_count": 7,
     "metadata": {},
     "output_type": "execute_result"
    }
   ],
   "source": [
    "df.groupBy(\"department\").count().toPandas()"
   ]
  },
  {
   "cell_type": "code",
   "execution_count": 8,
   "metadata": {},
   "outputs": [
    {
     "name": "stdout",
     "output_type": "stream",
     "text": [
      "shape: (8441, 20)\n"
     ]
    },
    {
     "data": {
      "text/html": [
       "<div>\n",
       "<style scoped>\n",
       "    .dataframe tbody tr th:only-of-type {\n",
       "        vertical-align: middle;\n",
       "    }\n",
       "\n",
       "    .dataframe tbody tr th {\n",
       "        vertical-align: top;\n",
       "    }\n",
       "\n",
       "    .dataframe thead th {\n",
       "        text-align: right;\n",
       "    }\n",
       "</style>\n",
       "<table border=\"1\" class=\"dataframe\">\n",
       "  <thead>\n",
       "    <tr style=\"text-align: right;\">\n",
       "      <th></th>\n",
       "      <th>case_id</th>\n",
       "      <th>case_opened_date</th>\n",
       "      <th>case_closed_date</th>\n",
       "      <th>case_due_date</th>\n",
       "      <th>case_late</th>\n",
       "      <th>num_days_late</th>\n",
       "      <th>case_closed</th>\n",
       "      <th>service_request_type</th>\n",
       "      <th>SLA_days</th>\n",
       "      <th>case_status</th>\n",
       "      <th>source_id</th>\n",
       "      <th>request_address</th>\n",
       "      <th>council_district</th>\n",
       "      <th>num_weeks_late</th>\n",
       "      <th>zipcode</th>\n",
       "      <th>case_age</th>\n",
       "      <th>days_to_closed</th>\n",
       "      <th>case_lifetime</th>\n",
       "      <th>department</th>\n",
       "      <th>dept_subject_to_SLA</th>\n",
       "    </tr>\n",
       "  </thead>\n",
       "  <tbody>\n",
       "    <tr>\n",
       "      <th>0</th>\n",
       "      <td>1014127339</td>\n",
       "      <td>2018-01-01 06:58:00</td>\n",
       "      <td>2018-01-02 15:32:00</td>\n",
       "      <td>2018-01-17 08:30:00</td>\n",
       "      <td>False</td>\n",
       "      <td>-14.706620</td>\n",
       "      <td>True</td>\n",
       "      <td>Front Or Side Yard Parking</td>\n",
       "      <td>16.063796</td>\n",
       "      <td>Closed</td>\n",
       "      <td>svcCRMSS</td>\n",
       "      <td>10133  FIGARO CANYON, San Antonio, 78251</td>\n",
       "      <td>004</td>\n",
       "      <td>-2.100946</td>\n",
       "      <td>78251</td>\n",
       "      <td>219</td>\n",
       "      <td>1.0</td>\n",
       "      <td>1</td>\n",
       "      <td>DSD/Code Enforcement</td>\n",
       "      <td>True</td>\n",
       "    </tr>\n",
       "    <tr>\n",
       "      <th>1</th>\n",
       "      <td>1014127368</td>\n",
       "      <td>2018-01-01 07:18:00</td>\n",
       "      <td>2018-01-02 15:22:00</td>\n",
       "      <td>2018-01-17 08:30:00</td>\n",
       "      <td>False</td>\n",
       "      <td>-14.713275</td>\n",
       "      <td>True</td>\n",
       "      <td>Right Of Way/Sidewalk Obstruction</td>\n",
       "      <td>16.049769</td>\n",
       "      <td>Closed</td>\n",
       "      <td>svcCRMSS</td>\n",
       "      <td>10133  FIGARO CANYON, San Antonio, 78251</td>\n",
       "      <td>004</td>\n",
       "      <td>-2.101896</td>\n",
       "      <td>78251</td>\n",
       "      <td>219</td>\n",
       "      <td>1.0</td>\n",
       "      <td>1</td>\n",
       "      <td>DSD/Code Enforcement</td>\n",
       "      <td>True</td>\n",
       "    </tr>\n",
       "    <tr>\n",
       "      <th>2</th>\n",
       "      <td>1014127446</td>\n",
       "      <td>2018-01-01 11:27:00</td>\n",
       "      <td>2018-01-03 17:08:00</td>\n",
       "      <td>2018-01-06 11:27:00</td>\n",
       "      <td>False</td>\n",
       "      <td>-2.763333</td>\n",
       "      <td>True</td>\n",
       "      <td>Aggressive Animal(Non-Critical)</td>\n",
       "      <td>5.000000</td>\n",
       "      <td>Closed</td>\n",
       "      <td>139344</td>\n",
       "      <td>SAN FERNANDO and SAN HORACIO S</td>\n",
       "      <td>005</td>\n",
       "      <td>-0.394762</td>\n",
       "      <td></td>\n",
       "      <td>219</td>\n",
       "      <td>2.0</td>\n",
       "      <td>2</td>\n",
       "      <td>Animal Care Services</td>\n",
       "      <td>True</td>\n",
       "    </tr>\n",
       "    <tr>\n",
       "      <th>3</th>\n",
       "      <td>1014127470</td>\n",
       "      <td>2018-01-01 12:33:00</td>\n",
       "      <td>2018-01-01 12:43:00</td>\n",
       "      <td>2020-09-26 12:33:00</td>\n",
       "      <td>False</td>\n",
       "      <td>-998.993079</td>\n",
       "      <td>True</td>\n",
       "      <td>Stray Animal</td>\n",
       "      <td>999.000000</td>\n",
       "      <td>Closed</td>\n",
       "      <td>139344</td>\n",
       "      <td>159  SURFRIDER, San Antonio, 78242</td>\n",
       "      <td>004</td>\n",
       "      <td>-142.713297</td>\n",
       "      <td>78242</td>\n",
       "      <td>219</td>\n",
       "      <td>0.0</td>\n",
       "      <td>0</td>\n",
       "      <td>Animal Care Services</td>\n",
       "      <td>True</td>\n",
       "    </tr>\n",
       "    <tr>\n",
       "      <th>4</th>\n",
       "      <td>1014127599</td>\n",
       "      <td>2018-01-01 15:25:00</td>\n",
       "      <td>2018-01-03 05:52:00</td>\n",
       "      <td>2018-01-02 03:25:00</td>\n",
       "      <td>True</td>\n",
       "      <td>1.101817</td>\n",
       "      <td>True</td>\n",
       "      <td>Trapped/Confined Animal</td>\n",
       "      <td>0.500000</td>\n",
       "      <td>Closed</td>\n",
       "      <td>rs16746</td>\n",
       "      <td>633  ST MARYS S, San Antonio, 78205</td>\n",
       "      <td>001</td>\n",
       "      <td>0.157402</td>\n",
       "      <td>78205</td>\n",
       "      <td>219</td>\n",
       "      <td>2.0</td>\n",
       "      <td>2</td>\n",
       "      <td>Animal Care Services</td>\n",
       "      <td>True</td>\n",
       "    </tr>\n",
       "  </tbody>\n",
       "</table>\n",
       "</div>"
      ],
      "text/plain": [
       "      case_id    case_opened_date    case_closed_date       case_due_date  \\\n",
       "0  1014127339 2018-01-01 06:58:00 2018-01-02 15:32:00 2018-01-17 08:30:00   \n",
       "1  1014127368 2018-01-01 07:18:00 2018-01-02 15:22:00 2018-01-17 08:30:00   \n",
       "2  1014127446 2018-01-01 11:27:00 2018-01-03 17:08:00 2018-01-06 11:27:00   \n",
       "3  1014127470 2018-01-01 12:33:00 2018-01-01 12:43:00 2020-09-26 12:33:00   \n",
       "4  1014127599 2018-01-01 15:25:00 2018-01-03 05:52:00 2018-01-02 03:25:00   \n",
       "\n",
       "   case_late  num_days_late  case_closed               service_request_type  \\\n",
       "0      False     -14.706620         True         Front Or Side Yard Parking   \n",
       "1      False     -14.713275         True  Right Of Way/Sidewalk Obstruction   \n",
       "2      False      -2.763333         True    Aggressive Animal(Non-Critical)   \n",
       "3      False    -998.993079         True                       Stray Animal   \n",
       "4       True       1.101817         True            Trapped/Confined Animal   \n",
       "\n",
       "     SLA_days case_status source_id                           request_address  \\\n",
       "0   16.063796      Closed  svcCRMSS  10133  FIGARO CANYON, San Antonio, 78251   \n",
       "1   16.049769      Closed  svcCRMSS  10133  FIGARO CANYON, San Antonio, 78251   \n",
       "2    5.000000      Closed    139344            SAN FERNANDO and SAN HORACIO S   \n",
       "3  999.000000      Closed    139344        159  SURFRIDER, San Antonio, 78242   \n",
       "4    0.500000      Closed   rs16746       633  ST MARYS S, San Antonio, 78205   \n",
       "\n",
       "  council_district  num_weeks_late zipcode  case_age  days_to_closed  \\\n",
       "0              004       -2.100946   78251       219             1.0   \n",
       "1              004       -2.101896   78251       219             1.0   \n",
       "2              005       -0.394762               219             2.0   \n",
       "3              004     -142.713297   78242       219             0.0   \n",
       "4              001        0.157402   78205       219             2.0   \n",
       "\n",
       "   case_lifetime            department  dept_subject_to_SLA  \n",
       "0              1  DSD/Code Enforcement                 True  \n",
       "1              1  DSD/Code Enforcement                 True  \n",
       "2              2  Animal Care Services                 True  \n",
       "3              0  Animal Care Services                 True  \n",
       "4              2  Animal Care Services                 True  "
      ]
     },
     "execution_count": 8,
     "metadata": {},
     "output_type": "execute_result"
    }
   ],
   "source": [
    "sample = df.sample(fraction=0.01, seed=13).toPandas()\n",
    "print(\"shape:\", sample.shape)\n",
    "sample.head()"
   ]
  },
  {
   "cell_type": "code",
   "execution_count": 11,
   "metadata": {},
   "outputs": [
    {
     "data": {
      "text/plain": [
       "department\n",
       "Animal Care Services        1118\n",
       "Customer Service              32\n",
       "DSD/Code Enforcement        3262\n",
       "Metro Health                  63\n",
       "Parks & Recreation           184\n",
       "Solid Waste                 2799\n",
       "Trans & Cap Improvements     983\n",
       "Name: case_id, dtype: int64"
      ]
     },
     "execution_count": 11,
     "metadata": {},
     "output_type": "execute_result"
    }
   ],
   "source": [
    "sample.groupby(['department']).case_id.agg('count')"
   ]
  },
  {
   "cell_type": "markdown",
   "metadata": {},
   "source": [
    "# 2. Does the percentage of cases that are late vary by department?\n"
   ]
  },
  {
   "cell_type": "code",
   "execution_count": 20,
   "metadata": {},
   "outputs": [
    {
     "data": {
      "text/plain": [
       "department                case_late\n",
       "Animal Care Services      False         877\n",
       "                          True          241\n",
       "Customer Service          False           8\n",
       "                          True           24\n",
       "DSD/Code Enforcement      False        2982\n",
       "                          True          280\n",
       "Metro Health              False          54\n",
       "                          True            9\n",
       "Parks & Recreation        False         150\n",
       "                          True           34\n",
       "Solid Waste               False        2469\n",
       "                          True          330\n",
       "Trans & Cap Improvements  False         937\n",
       "                          True           46\n",
       "Name: case_id, dtype: int64"
      ]
     },
     "execution_count": 20,
     "metadata": {},
     "output_type": "execute_result"
    }
   ],
   "source": [
    "sample.groupby(['department', 'case_late']).case_id.agg('count')"
   ]
  },
  {
   "cell_type": "code",
   "execution_count": 24,
   "metadata": {},
   "outputs": [],
   "source": [
    "# Yes it varies substantially by department"
   ]
  },
  {
   "cell_type": "markdown",
   "metadata": {},
   "source": [
    "# 3. On average, how late are the late cases by department?\n"
   ]
  },
  {
   "cell_type": "code",
   "execution_count": 25,
   "metadata": {},
   "outputs": [
    {
     "name": "stdout",
     "output_type": "stream",
     "text": [
      "-RECORD 0------------------------------------\n",
      " case_id              | 1014127332           \n",
      " case_opened_date     | 2018-01-01 00:42:00  \n",
      " case_closed_date     | 2018-01-01 12:29:00  \n",
      " case_due_date        | 2020-09-26 00:42:00  \n",
      " case_late            | false                \n",
      " num_days_late        | -998.5087616000001   \n",
      " case_closed          | true                 \n",
      " service_request_type | Stray Animal         \n",
      " SLA_days             | 999.0                \n",
      " case_status          | Closed               \n",
      " source_id            | svcCRMLS             \n",
      " request_address      | 2315  EL PASO ST,... \n",
      " council_district     | 005                  \n",
      " num_weeks_late       | -142.6441088         \n",
      " zipcode              | 78207                \n",
      " case_age             | 219                  \n",
      " days_to_closed       | 0                    \n",
      " case_lifetime        | 0                    \n",
      " department           | Animal Care Services \n",
      " dept_subject_to_SLA  | true                 \n",
      "only showing top 1 row\n",
      "\n"
     ]
    }
   ],
   "source": [
    "df.show(1, vertical=True)"
   ]
  },
  {
   "cell_type": "code",
   "execution_count": 27,
   "metadata": {},
   "outputs": [],
   "source": [
    "df.createOrReplaceTempView('case_view')\n"
   ]
  },
  {
   "cell_type": "code",
   "execution_count": 30,
   "metadata": {},
   "outputs": [
    {
     "name": "stdout",
     "output_type": "stream",
     "text": [
      "+--------------------+-------------------+\n",
      "|          department| avg(num_days_late)|\n",
      "+--------------------+-------------------+\n",
      "|         Solid Waste| -2.193864424022545|\n",
      "|Animal Care Services|-226.16549770717506|\n",
      "|Trans & Cap Impro...|-20.509793501785314|\n",
      "|  Parks & Recreation| -5.283345998745901|\n",
      "|    Customer Service|  59.49019459221518|\n",
      "|        Metro Health| -4.904223205386017|\n",
      "|        City Council|               null|\n",
      "|DSD/Code Enforcement| -38.32346772537388|\n",
      "+--------------------+-------------------+\n",
      "\n"
     ]
    }
   ],
   "source": [
    "spark.sql(\n",
    "    \"\"\"\n",
    "    SELECT department, avg(num_days_late)\n",
    "    FROM case_view\n",
    "    Group BY department;\n",
    "    \n",
    "    \"\"\"\n",
    ").show()"
   ]
  },
  {
   "cell_type": "code",
   "execution_count": 31,
   "metadata": {},
   "outputs": [
    {
     "data": {
      "text/plain": [
       "department\n",
       "Animal Care Services       -222.739414\n",
       "Customer Service             73.419864\n",
       "DSD/Code Enforcement        -37.931820\n",
       "Metro Health                 -4.818110\n",
       "Parks & Recreation           -1.519446\n",
       "Solid Waste                  -2.385478\n",
       "Trans & Cap Improvements    -20.108770\n",
       "Name: num_days_late, dtype: float64"
      ]
     },
     "execution_count": 31,
     "metadata": {},
     "output_type": "execute_result"
    }
   ],
   "source": [
    "sample.groupby(['department']).num_days_late.mean()"
   ]
  },
  {
   "cell_type": "code",
   "execution_count": 35,
   "metadata": {},
   "outputs": [
    {
     "ename": "TypeError",
     "evalue": "'GroupedData' object is not subscriptable",
     "output_type": "error",
     "traceback": [
      "\u001b[0;31m---------------------------------------------------------------------------\u001b[0m",
      "\u001b[0;31mTypeError\u001b[0m                                 Traceback (most recent call last)",
      "\u001b[0;32m<ipython-input-35-d55f8bb05db8>\u001b[0m in \u001b[0;36m<module>\u001b[0;34m\u001b[0m\n\u001b[0;32m----> 1\u001b[0;31m \u001b[0mdf\u001b[0m\u001b[0;34m.\u001b[0m\u001b[0mgroupby\u001b[0m\u001b[0;34m(\u001b[0m\u001b[0;34m[\u001b[0m\u001b[0;34m'department'\u001b[0m\u001b[0;34m]\u001b[0m\u001b[0;34m)\u001b[0m\u001b[0;34m[\u001b[0m\u001b[0;34m'num_days_late'\u001b[0m\u001b[0;34m]\u001b[0m\u001b[0;34m.\u001b[0m\u001b[0magg\u001b[0m\u001b[0;34m(\u001b[0m\u001b[0;34m'mean'\u001b[0m\u001b[0;34m)\u001b[0m\u001b[0;34m.\u001b[0m\u001b[0mtoPandas\u001b[0m\u001b[0;34m(\u001b[0m\u001b[0;34m)\u001b[0m\u001b[0;34m\u001b[0m\u001b[0;34m\u001b[0m\u001b[0m\n\u001b[0m",
      "\u001b[0;31mTypeError\u001b[0m: 'GroupedData' object is not subscriptable"
     ]
    }
   ],
   "source": [
    "df.groupby(['department'])['num_days_late'].agg('mean').toPandas()"
   ]
  },
  {
   "cell_type": "code",
   "execution_count": null,
   "metadata": {},
   "outputs": [],
   "source": []
  }
 ],
 "metadata": {
  "kernelspec": {
   "display_name": "Python 3",
   "language": "python",
   "name": "python3"
  },
  "language_info": {
   "codemirror_mode": {
    "name": "ipython",
    "version": 3
   },
   "file_extension": ".py",
   "mimetype": "text/x-python",
   "name": "python",
   "nbconvert_exporter": "python",
   "pygments_lexer": "ipython3",
   "version": "3.7.9"
  }
 },
 "nbformat": 4,
 "nbformat_minor": 4
}
